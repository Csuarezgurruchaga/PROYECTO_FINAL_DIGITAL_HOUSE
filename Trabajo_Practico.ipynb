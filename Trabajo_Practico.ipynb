{
 "cells": [
  {
   "cell_type": "markdown",
   "id": "b957f0c6-010a-448f-989f-90b8cc2d3cbf",
   "metadata": {},
   "source": [
    "# Objetivo del proceso a realizar\t\t\t\t\n",
    "## Objetivos del desafío 1\t\t\t\n",
    "- Efectuar una limpieza del dataset provisto. Particularmente, deberá diseñar estrategias para lidiar con los datos perdidos en ciertas variables.\t\t\n",
    "- Realizar un análisis descriptivo de las principales variables.\t\t\n",
    "- Crear nuevas columnas a partir de las características dadas que puedan tener valor predictivo.\t\t"
   ]
  },
  {
   "cell_type": "markdown",
   "id": "e4988249-015e-42dd-b14e-ec5316b20dd2",
   "metadata": {},
   "source": [
    "### 1) Imports"
   ]
  },
  {
   "cell_type": "code",
   "execution_count": 1,
   "id": "655eadec-6c1b-4bf1-b393-eb92bd17bf74",
   "metadata": {},
   "outputs": [],
   "source": [
    "import pandas as pd\n",
    "import numpy as np\n",
    "import matplotlib.pyplot as plt\n",
    "import seaborn as sns\n",
    "import re\n",
    "%matplotlib inline"
   ]
  },
  {
   "cell_type": "code",
   "execution_count": 2,
   "id": "889e37b7-3ec5-476e-94c7-05e97e5d618c",
   "metadata": {},
   "outputs": [],
   "source": [
    "path = '~/Desktop/Data/properatti.csv'\n",
    "data = pd.read_csv(path, sep = \",\")"
   ]
  },
  {
   "cell_type": "code",
   "execution_count": 3,
   "id": "97f36737-5933-44b9-a1ba-59115328677b",
   "metadata": {},
   "outputs": [],
   "source": [
    "df = data.copy()"
   ]
  },
  {
   "cell_type": "markdown",
   "id": "3812cd33-9a30-4a2e-a19b-e77b4d3b4c03",
   "metadata": {},
   "source": [
    "### 2) Analisis General del Data Set"
   ]
  },
  {
   "cell_type": "code",
   "execution_count": 4,
   "id": "f13c154e-135a-4b55-a55f-7cee9759d611",
   "metadata": {},
   "outputs": [
    {
     "name": "stdout",
     "output_type": "stream",
     "text": [
      "<class 'pandas.core.frame.DataFrame'>\n",
      "RangeIndex: 121220 entries, 0 to 121219\n",
      "Data columns (total 26 columns):\n",
      " #   Column                      Non-Null Count   Dtype  \n",
      "---  ------                      --------------   -----  \n",
      " 0   Unnamed: 0                  121220 non-null  int64  \n",
      " 1   operation                   121220 non-null  object \n",
      " 2   property_type               121220 non-null  object \n",
      " 3   place_name                  121197 non-null  object \n",
      " 4   place_with_parent_names     121220 non-null  object \n",
      " 5   country_name                121220 non-null  object \n",
      " 6   state_name                  121220 non-null  object \n",
      " 7   geonames_id                 102503 non-null  float64\n",
      " 8   lat-lon                     69670 non-null   object \n",
      " 9   lat                         69670 non-null   float64\n",
      " 10  lon                         69670 non-null   float64\n",
      " 11  price                       100810 non-null  float64\n",
      " 12  currency                    100809 non-null  object \n",
      " 13  price_aprox_local_currency  100810 non-null  float64\n",
      " 14  price_aprox_usd             100810 non-null  float64\n",
      " 15  surface_total_in_m2         81892 non-null   float64\n",
      " 16  surface_covered_in_m2       101313 non-null  float64\n",
      " 17  price_usd_per_m2            68617 non-null   float64\n",
      " 18  price_per_m2                87658 non-null   float64\n",
      " 19  floor                       7899 non-null    float64\n",
      " 20  rooms                       47390 non-null   float64\n",
      " 21  expenses                    14262 non-null   float64\n",
      " 22  properati_url               121220 non-null  object \n",
      " 23  description                 121218 non-null  object \n",
      " 24  title                       121220 non-null  object \n",
      " 25  image_thumbnail             118108 non-null  object \n",
      "dtypes: float64(13), int64(1), object(12)\n",
      "memory usage: 24.0+ MB\n"
     ]
    }
   ],
   "source": [
    "df.info()"
   ]
  },
  {
   "cell_type": "markdown",
   "id": "c8361f11-c6cc-42b1-8865-78712569837a",
   "metadata": {},
   "source": [
    "Revisamos el porcentaje de nulos"
   ]
  },
  {
   "cell_type": "code",
   "execution_count": null,
   "id": "98e6e22d-7c53-43ee-bef9-d19135d6b20f",
   "metadata": {},
   "outputs": [],
   "source": []
  },
  {
   "cell_type": "markdown",
   "id": "99cf7933-2dbd-4a71-b841-555a1286443f",
   "metadata": {},
   "source": [
    "Transformamos a category las variables currency state_name country_name place_with_parent_names place_name property_type operation.\n",
    "\n",
    "Transformamos a string las variables title description properati_url\n"
   ]
  },
  {
   "cell_type": "code",
   "execution_count": 5,
   "id": "aaa985e8-395f-46f3-8a09-3424e7d619f9",
   "metadata": {},
   "outputs": [],
   "source": [
    "df.iloc[:,1:7]=df.iloc[:,1:7].astype('category')\n",
    "df.iloc[:,22:25]=df.iloc[:,22:25].astype(str)\n",
    "df['currency']=df.currency.astype('category')"
   ]
  },
  {
   "cell_type": "code",
   "execution_count": 6,
   "id": "0bce817b-e569-45c7-8aa2-1ffe0fc219ed",
   "metadata": {
    "tags": []
   },
   "outputs": [
    {
     "data": {
      "text/plain": [
       "Unnamed: 0                       int64\n",
       "operation                     category\n",
       "property_type                 category\n",
       "place_name                    category\n",
       "place_with_parent_names       category\n",
       "country_name                  category\n",
       "state_name                    category\n",
       "geonames_id                    float64\n",
       "lat-lon                         object\n",
       "lat                            float64\n",
       "lon                            float64\n",
       "price                          float64\n",
       "currency                      category\n",
       "price_aprox_local_currency     float64\n",
       "price_aprox_usd                float64\n",
       "surface_total_in_m2            float64\n",
       "surface_covered_in_m2          float64\n",
       "price_usd_per_m2               float64\n",
       "price_per_m2                   float64\n",
       "floor                          float64\n",
       "rooms                          float64\n",
       "expenses                       float64\n",
       "properati_url                   object\n",
       "description                     object\n",
       "title                           object\n",
       "image_thumbnail                 object\n",
       "dtype: object"
      ]
     },
     "execution_count": 6,
     "metadata": {},
     "output_type": "execute_result"
    }
   ],
   "source": [
    "df.dtypes"
   ]
  },
  {
   "cell_type": "markdown",
   "id": "477ceb4f-aba2-4b60-8789-7b214df148b6",
   "metadata": {},
   "source": [
    "### 3) Analisis de duplicados"
   ]
  },
  {
   "cell_type": "markdown",
   "id": "28f4c5b6-1740-4949-96d9-96a7faf8d042",
   "metadata": {},
   "source": [
    "Vamos a ver si tenemos inmuebles duplicados en nuetro dataset.\n",
    "\n",
    "Definimos que tenemos un duplicado segun la columna 'properati_url', ya que 2 publicaciones distintas, no pueden remitir a la misma URL de properati."
   ]
  },
  {
   "cell_type": "code",
   "execution_count": 7,
   "id": "1dd244fe-294d-4128-9fbd-ea1591c54364",
   "metadata": {},
   "outputs": [
    {
     "data": {
      "text/plain": [
       "False"
      ]
     },
     "execution_count": 7,
     "metadata": {},
     "output_type": "execute_result"
    }
   ],
   "source": [
    "df.duplicated('properati_url').any()"
   ]
  },
  {
   "cell_type": "markdown",
   "id": "5a66c148-a2cc-4800-917f-7f6a88eeda7b",
   "metadata": {},
   "source": [
    "No hay filas duplicadas"
   ]
  },
  {
   "cell_type": "code",
   "execution_count": null,
   "id": "4f24323f-e2ec-4746-8e72-3d6fd5b7a4a7",
   "metadata": {},
   "outputs": [],
   "source": []
  },
  {
   "cell_type": "markdown",
   "id": "83c38321-5538-403b-b1ec-d99e8ae5ed4c",
   "metadata": {},
   "source": [
    "Verificamos que todas las propiedades provistas estan para la venta, y ninguna en renta, con lo cual la columna 'operation' no nos aporta mucha informacion."
   ]
  },
  {
   "cell_type": "code",
   "execution_count": 8,
   "id": "80038819-2ecd-45f1-b1ab-cbdd910e910a",
   "metadata": {},
   "outputs": [
    {
     "data": {
      "text/plain": [
       "sell    121220\n",
       "Name: operation, dtype: int64"
      ]
     },
     "execution_count": 8,
     "metadata": {},
     "output_type": "execute_result"
    }
   ],
   "source": [
    "df.operation.value_counts()"
   ]
  },
  {
   "cell_type": "markdown",
   "id": "da02f881-4ebe-4a69-84f1-529edebe8208",
   "metadata": {},
   "source": [
    "Vamos a revisar los valores estadisticos de las variables numericas de nuestro Data set"
   ]
  },
  {
   "cell_type": "code",
   "execution_count": 9,
   "id": "93e90c1d-6d3b-44a3-93e4-26c5f687206b",
   "metadata": {},
   "outputs": [
    {
     "data": {
      "text/html": [
       "<div>\n",
       "<style scoped>\n",
       "    .dataframe tbody tr th:only-of-type {\n",
       "        vertical-align: middle;\n",
       "    }\n",
       "\n",
       "    .dataframe tbody tr th {\n",
       "        vertical-align: top;\n",
       "    }\n",
       "\n",
       "    .dataframe thead th {\n",
       "        text-align: right;\n",
       "    }\n",
       "</style>\n",
       "<table border=\"1\" class=\"dataframe\">\n",
       "  <thead>\n",
       "    <tr style=\"text-align: right;\">\n",
       "      <th></th>\n",
       "      <th>price</th>\n",
       "      <th>price_aprox_local_currency</th>\n",
       "      <th>price_aprox_usd</th>\n",
       "      <th>surface_total_in_m2</th>\n",
       "      <th>surface_covered_in_m2</th>\n",
       "      <th>price_usd_per_m2</th>\n",
       "      <th>price_per_m2</th>\n",
       "    </tr>\n",
       "  </thead>\n",
       "  <tbody>\n",
       "    <tr>\n",
       "      <th>count</th>\n",
       "      <td>1.008100e+05</td>\n",
       "      <td>1.008100e+05</td>\n",
       "      <td>1.008100e+05</td>\n",
       "      <td>81892.000000</td>\n",
       "      <td>101313.000000</td>\n",
       "      <td>68617.000000</td>\n",
       "      <td>8.765800e+04</td>\n",
       "    </tr>\n",
       "    <tr>\n",
       "      <th>mean</th>\n",
       "      <td>4.685259e+05</td>\n",
       "      <td>4.229397e+06</td>\n",
       "      <td>2.397006e+05</td>\n",
       "      <td>233.795328</td>\n",
       "      <td>133.050181</td>\n",
       "      <td>2160.086916</td>\n",
       "      <td>6.912216e+03</td>\n",
       "    </tr>\n",
       "    <tr>\n",
       "      <th>std</th>\n",
       "      <td>2.260101e+06</td>\n",
       "      <td>6.904714e+06</td>\n",
       "      <td>3.913239e+05</td>\n",
       "      <td>1782.222147</td>\n",
       "      <td>724.351479</td>\n",
       "      <td>2759.288621</td>\n",
       "      <td>2.837864e+04</td>\n",
       "    </tr>\n",
       "    <tr>\n",
       "      <th>min</th>\n",
       "      <td>0.000000e+00</td>\n",
       "      <td>0.000000e+00</td>\n",
       "      <td>0.000000e+00</td>\n",
       "      <td>0.000000</td>\n",
       "      <td>0.000000</td>\n",
       "      <td>0.600000</td>\n",
       "      <td>1.510204e+00</td>\n",
       "    </tr>\n",
       "    <tr>\n",
       "      <th>25%</th>\n",
       "      <td>1.100000e+05</td>\n",
       "      <td>1.583309e+06</td>\n",
       "      <td>8.973388e+04</td>\n",
       "      <td>50.000000</td>\n",
       "      <td>45.000000</td>\n",
       "      <td>1218.181818</td>\n",
       "      <td>1.550000e+03</td>\n",
       "    </tr>\n",
       "    <tr>\n",
       "      <th>50%</th>\n",
       "      <td>1.850000e+05</td>\n",
       "      <td>2.558452e+06</td>\n",
       "      <td>1.450000e+05</td>\n",
       "      <td>84.000000</td>\n",
       "      <td>75.000000</td>\n",
       "      <td>1800.000000</td>\n",
       "      <td>2.213115e+03</td>\n",
       "    </tr>\n",
       "    <tr>\n",
       "      <th>75%</th>\n",
       "      <td>4.200000e+05</td>\n",
       "      <td>4.675792e+06</td>\n",
       "      <td>2.650000e+05</td>\n",
       "      <td>200.000000</td>\n",
       "      <td>150.000000</td>\n",
       "      <td>2486.411765</td>\n",
       "      <td>3.355549e+03</td>\n",
       "    </tr>\n",
       "    <tr>\n",
       "      <th>max</th>\n",
       "      <td>6.500000e+08</td>\n",
       "      <td>8.212711e+08</td>\n",
       "      <td>4.654544e+07</td>\n",
       "      <td>200000.000000</td>\n",
       "      <td>187000.000000</td>\n",
       "      <td>206333.333333</td>\n",
       "      <td>4.000000e+06</td>\n",
       "    </tr>\n",
       "  </tbody>\n",
       "</table>\n",
       "</div>"
      ],
      "text/plain": [
       "              price  price_aprox_local_currency  price_aprox_usd  \\\n",
       "count  1.008100e+05                1.008100e+05     1.008100e+05   \n",
       "mean   4.685259e+05                4.229397e+06     2.397006e+05   \n",
       "std    2.260101e+06                6.904714e+06     3.913239e+05   \n",
       "min    0.000000e+00                0.000000e+00     0.000000e+00   \n",
       "25%    1.100000e+05                1.583309e+06     8.973388e+04   \n",
       "50%    1.850000e+05                2.558452e+06     1.450000e+05   \n",
       "75%    4.200000e+05                4.675792e+06     2.650000e+05   \n",
       "max    6.500000e+08                8.212711e+08     4.654544e+07   \n",
       "\n",
       "       surface_total_in_m2  surface_covered_in_m2  price_usd_per_m2  \\\n",
       "count         81892.000000          101313.000000      68617.000000   \n",
       "mean            233.795328             133.050181       2160.086916   \n",
       "std            1782.222147             724.351479       2759.288621   \n",
       "min               0.000000               0.000000          0.600000   \n",
       "25%              50.000000              45.000000       1218.181818   \n",
       "50%              84.000000              75.000000       1800.000000   \n",
       "75%             200.000000             150.000000       2486.411765   \n",
       "max          200000.000000          187000.000000     206333.333333   \n",
       "\n",
       "       price_per_m2  \n",
       "count  8.765800e+04  \n",
       "mean   6.912216e+03  \n",
       "std    2.837864e+04  \n",
       "min    1.510204e+00  \n",
       "25%    1.550000e+03  \n",
       "50%    2.213115e+03  \n",
       "75%    3.355549e+03  \n",
       "max    4.000000e+06  "
      ]
     },
     "execution_count": 9,
     "metadata": {},
     "output_type": "execute_result"
    }
   ],
   "source": [
    "cols=['price','price_aprox_local_currency','price_aprox_usd','surface_total_in_m2','surface_covered_in_m2','price_usd_per_m2','price_per_m2']\n",
    "df[cols].describe()"
   ]
  },
  {
   "cell_type": "markdown",
   "id": "94ccf141-c359-4ba0-8dfb-1d192949ae76",
   "metadata": {},
   "source": [
    "Aca podemos observar algunos valores extraños en el data set:\n",
    "\n",
    "* El valor minimo de superficie total, es 0.\n",
    "\n",
    "* El valor minimo de venta es 0.\n",
    "\n",
    "* El valor maximo de superficie llega a 20 hectareas\n"
   ]
  },
  {
   "cell_type": "markdown",
   "id": "ae8c9dc6-9e9b-404b-bf52-c24115d0546f",
   "metadata": {},
   "source": [
    "### 4) Analisis de columnas"
   ]
  },
  {
   "cell_type": "markdown",
   "id": "f9a8ceda-bf47-47d6-a45b-82008cc2daeb",
   "metadata": {},
   "source": [
    "**Analisis Descriptivo de las principales variables:**\n",
    "\n",
    "Podemos separar a nuestras variables en 3 grandes grupos por su tipo:\n",
    "\n",
    "Variables georeferenciales:\n",
    "\n",
    "* geonames_id                  \n",
    "* lat-lon                       \n",
    "* lat                           \n",
    "* lon                           \n",
    "\n",
    "Variables relacionadas con el precio del inmueble: \n",
    "\n",
    "* price_per_m2: Es nuestra variable objetivo, es la que vamos a querer predecir en la siguiente etapa del trabajo, nos representa el precio por metro cuadrado del inmueble.VARIABLE CONTINUA\n",
    "\n",
    "* price_usd_per_m2: Esta variable nos indica el valor en dolares por metro cuadrado del inmueble publicado.VARIABLE CONTINUA\n",
    "\n",
    "* price: Esta variable nos indica el precio del inmueble expresado en la moneda \"currency\".VARIABLE CONTINUA\n",
    "\n",
    "* currency: Esta variable nos indica la moneda en la que se publico el inmueble, puede valer (usd,ars,uyu,pen).VARIABLE CATEGORICA\n",
    "\n",
    "Variables relacionadas con el tamaño del inmueble:\n",
    "\n",
    "* surface_total_in_m2: Esta variable nos indica los metros cuadrados totales de la propiedad publicada.VARIABLE CONTINUA\n",
    "\n",
    "* surface_covered_in_m2: Esta variable nos indica los metros cuadrados cubiertos de la propiedad publicada.VARIABLE CONTINUA\n",
    "\n",
    "Variables que nos dan informacion sobre el lugar donde se encuentra la propiedad\n",
    "\n",
    "* property_type: Nos indica el tipo de propiedad publicada (ph, apartment, house, store).VARIABLE CATEGORICA\n",
    "\n",
    "* place_name: Nos indica el barrio(si es dentro de CABA) o localidad, de donde esta la propiedad publicada.VARIABLE CATEGORICA\n",
    "\n",
    "* state_name: Nos indica la provincia en donde se encuentra la propiedad publicada.VARIABLE CATEGORICA\n",
    "\n",
    "* place_with_parent_names: Es una combinacion de place_name y state_name, en algunos casos, con algunos datos mas sobre la ubicacion, como el partido. place_with_parent_names = |country_name|state_name|place_name|.VARIABLE CATEGORICA\n",
    "\n",
    "Variables relacionadas con caracteristicas del inmueble:\n",
    "\n",
    "* floor: Numero de piso en donde esta ubicado el inmueble(en caso de corresponder).VARIABLE CUALITATIVA ORDINAL\n",
    "\n",
    "* rooms: Esta variable nos indica la cantidad de ambientes que posee el inmueble.VARIABLE CATEGORICA\n",
    "\n",
    "* expenses: Valor de las expensas del inmueble (en caso de corresponder).VARIABLE CONTINUA\n",
    "\n",
    "* description: Una breve descripcion sobre la propiedad en venta."
   ]
  },
  {
   "cell_type": "code",
   "execution_count": null,
   "id": "77f986b0-ff17-49c7-915f-cd37daae1688",
   "metadata": {},
   "outputs": [],
   "source": []
  },
  {
   "cell_type": "markdown",
   "id": "c1336505-6a34-4f6f-a4f4-b410eb2d3dfa",
   "metadata": {},
   "source": [
    "### 5) Análisis inicial de la distribución de los datos"
   ]
  },
  {
   "cell_type": "code",
   "execution_count": 10,
   "id": "71f0b4af-cb5d-48e0-b77d-078dc41d5ecc",
   "metadata": {},
   "outputs": [],
   "source": [
    "#Para evitar problemas con los strings, convertimos todo el df en minuscula\n",
    "df = df.applymap(lambda x: x.lower() if type(x) is str else x)"
   ]
  },
  {
   "cell_type": "code",
   "execution_count": null,
   "id": "ebe69e8f-723d-4fc3-8f85-ebf080ea8fc3",
   "metadata": {},
   "outputs": [],
   "source": []
  },
  {
   "cell_type": "markdown",
   "id": "5c633881-bb55-4abc-bf66-9cd9bd2eed6d",
   "metadata": {},
   "source": [
    "Droppeamos valores ilogicos, por ejemplo que un valor de superficie total sea menor que el de superficie cubierta"
   ]
  },
  {
   "cell_type": "code",
   "execution_count": 15,
   "id": "5b167002-7cc9-4d36-8b87-e92353400ac2",
   "metadata": {},
   "outputs": [
    {
     "data": {
      "text/plain": [
       "(1106, 26)"
      ]
     },
     "execution_count": 15,
     "metadata": {},
     "output_type": "execute_result"
    }
   ],
   "source": [
    "sup_total_incorrecta = df['surface_total_in_m2'] < df['surface_covered_in_m2']\n",
    "\n",
    "df_sup_total_incorrecta=df[sup_total_incorrecta]\n",
    "df_sup_total_incorrecta.shape"
   ]
  },
  {
   "cell_type": "code",
   "execution_count": 16,
   "id": "5c3e8c87-9f94-41c4-885a-51e2d825cd54",
   "metadata": {
    "tags": []
   },
   "outputs": [],
   "source": [
    "df.drop(index=df_sup_total_incorrecta.index, inplace=True)"
   ]
  },
  {
   "cell_type": "code",
   "execution_count": 17,
   "id": "980c2a44-f6fd-4919-9f3f-ac4a301c0bb9",
   "metadata": {},
   "outputs": [
    {
     "data": {
      "text/plain": [
       "False"
      ]
     },
     "execution_count": 17,
     "metadata": {},
     "output_type": "execute_result"
    }
   ],
   "source": [
    "(df['surface_total_in_m2'] < df['surface_covered_in_m2']).any()"
   ]
  },
  {
   "cell_type": "code",
   "execution_count": null,
   "id": "10e46f1a-c9a8-4d09-b56f-00f16a1a6788",
   "metadata": {},
   "outputs": [],
   "source": []
  },
  {
   "cell_type": "markdown",
   "id": "66b500a0-6164-4da4-87af-9b12c37d00bb",
   "metadata": {},
   "source": [
    "Vamos a corroborar que el precio price_usd_per_m2, coincide con price/surface_covered_in_m2, cuando currency ==usd, para esto nos vamos a crear una nueva columna llamada PRECIO USD POR M2"
   ]
  },
  {
   "cell_type": "code",
   "execution_count": 18,
   "id": "5008063c-6173-4a03-be8b-bdeb082bca8b",
   "metadata": {},
   "outputs": [
    {
     "data": {
      "text/plain": [
       "False"
      ]
     },
     "execution_count": 18,
     "metadata": {},
     "output_type": "execute_result"
    }
   ],
   "source": [
    "df_dolares = df[df.currency=='usd']\n",
    "\n",
    "df['PRECIO USD POR M2']=df_dolares[['price','surface_total_in_m2']].apply(lambda x: 0 if x.surface_total_in_m2 == 0 else x.price/x.surface_total_in_m2, axis=1)\n",
    "\n",
    "(df['PRECIO USD POR M2']==df['price_usd_per_m2']).all()"
   ]
  },
  {
   "cell_type": "code",
   "execution_count": 19,
   "id": "c17b5ae1-11e5-4ee5-81ec-ee1492991b27",
   "metadata": {},
   "outputs": [
    {
     "data": {
      "text/plain": [
       "59431"
      ]
     },
     "execution_count": 19,
     "metadata": {},
     "output_type": "execute_result"
    }
   ],
   "source": [
    "df['PRECIO USD POR M2'].notnull().sum()"
   ]
  },
  {
   "cell_type": "code",
   "execution_count": 20,
   "id": "44fb47bd-1e04-4cb0-a6ff-a55d31820724",
   "metadata": {},
   "outputs": [
    {
     "data": {
      "text/plain": [
       "67640"
      ]
     },
     "execution_count": 20,
     "metadata": {},
     "output_type": "execute_result"
    }
   ],
   "source": [
    "df['price_usd_per_m2'].notnull().sum()"
   ]
  },
  {
   "cell_type": "markdown",
   "id": "e92194d4-ac0c-46e4-a7ba-c02fbbb9e4be",
   "metadata": {},
   "source": [
    "Como PRECIO USD POR M2 es igual que price_usd_per_m2, vamos a imputar los valores que podamos de PRECIO USD POR M2 con price_usd_per_m2"
   ]
  },
  {
   "cell_type": "code",
   "execution_count": 23,
   "id": "31205612-6d99-4b50-b120-f04f9414f99a",
   "metadata": {},
   "outputs": [
    {
     "data": {
      "text/html": [
       "<div>\n",
       "<style scoped>\n",
       "    .dataframe tbody tr th:only-of-type {\n",
       "        vertical-align: middle;\n",
       "    }\n",
       "\n",
       "    .dataframe tbody tr th {\n",
       "        vertical-align: top;\n",
       "    }\n",
       "\n",
       "    .dataframe thead th {\n",
       "        text-align: right;\n",
       "    }\n",
       "</style>\n",
       "<table border=\"1\" class=\"dataframe\">\n",
       "  <thead>\n",
       "    <tr style=\"text-align: right;\">\n",
       "      <th></th>\n",
       "      <th>price_usd_per_m2</th>\n",
       "      <th>PRECIO USD POR M2</th>\n",
       "    </tr>\n",
       "  </thead>\n",
       "  <tbody>\n",
       "    <tr>\n",
       "      <th>96374</th>\n",
       "      <td>NaN</td>\n",
       "      <td>NaN</td>\n",
       "    </tr>\n",
       "    <tr>\n",
       "      <th>30202</th>\n",
       "      <td>NaN</td>\n",
       "      <td>NaN</td>\n",
       "    </tr>\n",
       "    <tr>\n",
       "      <th>93331</th>\n",
       "      <td>NaN</td>\n",
       "      <td>NaN</td>\n",
       "    </tr>\n",
       "    <tr>\n",
       "      <th>51088</th>\n",
       "      <td>342.495725</td>\n",
       "      <td>NaN</td>\n",
       "    </tr>\n",
       "    <tr>\n",
       "      <th>4664</th>\n",
       "      <td>7172.774869</td>\n",
       "      <td>7172.774869</td>\n",
       "    </tr>\n",
       "  </tbody>\n",
       "</table>\n",
       "</div>"
      ],
      "text/plain": [
       "       price_usd_per_m2  PRECIO USD POR M2\n",
       "96374               NaN                NaN\n",
       "30202               NaN                NaN\n",
       "93331               NaN                NaN\n",
       "51088        342.495725                NaN\n",
       "4664        7172.774869        7172.774869"
      ]
     },
     "execution_count": 23,
     "metadata": {},
     "output_type": "execute_result"
    }
   ],
   "source": [
    "df[['price_usd_per_m2','PRECIO USD POR M2']].sample(5)"
   ]
  },
  {
   "cell_type": "code",
   "execution_count": 24,
   "id": "1bf4c75a-5b41-4066-8d87-ca2b43b6bfd9",
   "metadata": {},
   "outputs": [],
   "source": [
    "M2_USD_NULL = df['PRECIO USD POR M2'].isnull()\n",
    "\n",
    "df.loc[M2_USD_NULL,'PRECIO USD POR M2']=df.loc[M2_USD_NULL,'price_usd_per_m2']"
   ]
  },
  {
   "cell_type": "code",
   "execution_count": null,
   "id": "2e67bbe0-b7f3-4aad-953c-5b070aff27e1",
   "metadata": {},
   "outputs": [],
   "source": []
  },
  {
   "cell_type": "code",
   "execution_count": null,
   "id": "50c1fc51-6af0-4333-885c-d0a80c6ebe21",
   "metadata": {},
   "outputs": [],
   "source": [
    "### Ver si puedo conseguir mas valores para 'PRECIO USD POR M2' de alguna otra columna"
   ]
  },
  {
   "cell_type": "code",
   "execution_count": null,
   "id": "9322a670-c8c7-41af-b46c-2df89dcbf781",
   "metadata": {},
   "outputs": [],
   "source": []
  },
  {
   "cell_type": "code",
   "execution_count": null,
   "id": "a33ccfee-a0ff-4e7f-b4d9-0288533f8a98",
   "metadata": {},
   "outputs": [],
   "source": []
  },
  {
   "cell_type": "code",
   "execution_count": 29,
   "id": "b797df9b-47d2-4997-8e15-25356e915b7b",
   "metadata": {},
   "outputs": [
    {
     "data": {
      "text/html": [
       "<div>\n",
       "<style scoped>\n",
       "    .dataframe tbody tr th:only-of-type {\n",
       "        vertical-align: middle;\n",
       "    }\n",
       "\n",
       "    .dataframe tbody tr th {\n",
       "        vertical-align: top;\n",
       "    }\n",
       "\n",
       "    .dataframe thead th {\n",
       "        text-align: right;\n",
       "    }\n",
       "</style>\n",
       "<table border=\"1\" class=\"dataframe\">\n",
       "  <thead>\n",
       "    <tr style=\"text-align: right;\">\n",
       "      <th></th>\n",
       "      <th>property_type</th>\n",
       "      <th>place_name</th>\n",
       "      <th>place_with_parent_names</th>\n",
       "      <th>state_name</th>\n",
       "      <th>price</th>\n",
       "      <th>currency</th>\n",
       "      <th>price_aprox_local_currency</th>\n",
       "      <th>price_aprox_usd</th>\n",
       "      <th>surface_total_in_m2</th>\n",
       "      <th>surface_covered_in_m2</th>\n",
       "      <th>price_usd_per_m2</th>\n",
       "      <th>price_per_m2</th>\n",
       "      <th>floor</th>\n",
       "      <th>rooms</th>\n",
       "      <th>expenses</th>\n",
       "      <th>description</th>\n",
       "    </tr>\n",
       "  </thead>\n",
       "  <tbody>\n",
       "    <tr>\n",
       "      <th>0</th>\n",
       "      <td>ph</td>\n",
       "      <td>mataderos</td>\n",
       "      <td>|argentina|capital federal|mataderos|</td>\n",
       "      <td>capital federal</td>\n",
       "      <td>62000.0</td>\n",
       "      <td>usd</td>\n",
       "      <td>1093959.0</td>\n",
       "      <td>62000.0</td>\n",
       "      <td>55.0</td>\n",
       "      <td>40.0</td>\n",
       "      <td>1127.272727</td>\n",
       "      <td>1550.0</td>\n",
       "      <td>NaN</td>\n",
       "      <td>NaN</td>\n",
       "      <td>NaN</td>\n",
       "      <td>2 ambientes tipo casa planta baja por pasillo,...</td>\n",
       "    </tr>\n",
       "  </tbody>\n",
       "</table>\n",
       "</div>"
      ],
      "text/plain": [
       "  property_type place_name                place_with_parent_names  \\\n",
       "0            ph  mataderos  |argentina|capital federal|mataderos|   \n",
       "\n",
       "        state_name    price currency  price_aprox_local_currency  \\\n",
       "0  capital federal  62000.0      usd                   1093959.0   \n",
       "\n",
       "   price_aprox_usd  surface_total_in_m2  surface_covered_in_m2  \\\n",
       "0          62000.0                 55.0                   40.0   \n",
       "\n",
       "   price_usd_per_m2  price_per_m2  floor  rooms  expenses  \\\n",
       "0       1127.272727        1550.0    NaN    NaN       NaN   \n",
       "\n",
       "                                         description  \n",
       "0  2 ambientes tipo casa planta baja por pasillo,...  "
      ]
     },
     "execution_count": 29,
     "metadata": {},
     "output_type": "execute_result"
    }
   ],
   "source": [
    "df[cols_utiles].head(1)"
   ]
  },
  {
   "cell_type": "code",
   "execution_count": null,
   "id": "2aea6b69-7a52-41b8-81e1-7a1b376cdb9c",
   "metadata": {},
   "outputs": [],
   "source": []
  },
  {
   "cell_type": "code",
   "execution_count": null,
   "id": "9db523f7-a3b3-42a9-b9a2-b3e5aae9d187",
   "metadata": {},
   "outputs": [],
   "source": []
  },
  {
   "cell_type": "code",
   "execution_count": null,
   "id": "ab8c6a75-69a3-4510-a4b8-4826c604ed5d",
   "metadata": {},
   "outputs": [],
   "source": [
    "### Ver si puedo conseguir mas valores para 'PRECIO USD POR M2' de alguna otra columna"
   ]
  },
  {
   "cell_type": "code",
   "execution_count": null,
   "id": "d116ae73-a84c-42ed-86db-402d8663a431",
   "metadata": {},
   "outputs": [],
   "source": []
  },
  {
   "cell_type": "markdown",
   "id": "40c946a4-5451-44b1-b692-51f7706d7342",
   "metadata": {},
   "source": [
    "Separamos las columnas que consideramos tengan alguna relacion con el precio_per_m2 o nos puedan brindar informacion util "
   ]
  },
  {
   "cell_type": "code",
   "execution_count": 28,
   "id": "c37a657c-d2ac-4401-924b-72faa41edb77",
   "metadata": {},
   "outputs": [],
   "source": [
    "cols_utiles=['property_type','place_name','place_with_parent_names','state_name','price','currency'\\\n",
    "            ,'price_aprox_local_currency','price_aprox_usd','surface_total_in_m2','surface_covered_in_m2'\\\n",
    "            ,'price_usd_per_m2','price_per_m2','floor','rooms','expenses','description', 'PRECIO USD POR M2']\n",
    "\n",
    "cols_utiles_sin_price=['property_type','place_name','place_with_parent_names','state_name','currency'\\\n",
    "            ,'price_aprox_local_currency','price_aprox_usd','surface_total_in_m2','surface_covered_in_m2'\\\n",
    "            ,'price_usd_per_m2','price_per_m2','floor','rooms','expenses','description', 'PRECIO USD POR M2']"
   ]
  },
  {
   "cell_type": "code",
   "execution_count": null,
   "id": "4d87e764-4a5f-4ae3-ac1c-68d506babe21",
   "metadata": {},
   "outputs": [],
   "source": []
  },
  {
   "cell_type": "code",
   "execution_count": null,
   "id": "72b71302-886d-4222-beed-b9c7bb1c9b51",
   "metadata": {},
   "outputs": [],
   "source": [
    "groupby_property_type=df.groupby('property_type')[cols_utiles_sin_price].median()\n",
    "groupby_property_type"
   ]
  },
  {
   "cell_type": "markdown",
   "id": "641723a0-4bdd-49e1-9079-a53e093a7c02",
   "metadata": {},
   "source": [
    "Dado que 'price', depende del valor de currency, si esta en usd o en ars, vamos a calcularlos por separados, para no crear un bias."
   ]
  },
  {
   "cell_type": "code",
   "execution_count": null,
   "id": "abfac3cc-cad2-4926-90cb-e97473302422",
   "metadata": {},
   "outputs": [],
   "source": [
    "groupby_property_type_price_usd=df[df.currency=='usd'].groupby('property_type')['price'].median()\n",
    "groupby_property_type_price_ars=df[df.currency=='ars'].groupby('property_type')['price'].median()\n",
    "\n",
    "groupby_property_type['price_usd']=groupby_property_type_price_usd\n",
    "groupby_property_type['price_ars']=groupby_property_type_price_ars\n",
    "groupby_property_type['cant de propiedades']=df.groupby('property_type')['operation'].count()\n",
    "\n",
    "groupby_property_type"
   ]
  },
  {
   "cell_type": "markdown",
   "id": "0bcac653-c337-4098-ba2f-b734025b92b9",
   "metadata": {},
   "source": [
    "Al agrupar las propiedades por su tipo, podemos realizar las siguientes observaciones:\n",
    "\n",
    "*  Las casas son las que suelen tener un mayor precio, pero tambien son las que tienen mas metros cuadrados tienen y pagan mas expensas.\n",
    "\n",
    "*  Los departamentos son las propiedades que mayor valor por metro cuadrado tienen.\n",
    "\n",
    "*  Los ph, son la opcion mas economica de propiedad, ya que tienen el precio mas bajo y el menor valor de expensas.\n",
    "\n",
    "*  La mayoria de los inmuebles publicados son departamentos."
   ]
  },
  {
   "cell_type": "code",
   "execution_count": null,
   "id": "0de5f5c5-09dd-451f-a1ad-c0c6e059b402",
   "metadata": {},
   "outputs": [],
   "source": [
    "groupby_provincia_price_usd=df[df.currency=='usd'].groupby('state_name')['price'].median()\n",
    "groupby_provincia_price_ars=df[df.currency=='ars'].groupby('state_name')['price'].median()\n",
    "\n",
    "groupby_provincia=df.groupby('state_name')[cols_utiles_sin_price].median()\n",
    "\n",
    "groupby_provincia['price_usd']=groupby_provincia_price_usd\n",
    "groupby_provincia['price_ars']=groupby_provincia_price_ars\n",
    "groupby_provincia['cant de propiedades']=df.groupby('state_name')[cols_utiles_sin_price].count().property_type\n",
    "\n",
    "\n",
    "groupby_provincia.sort_values('cant de propiedades',ascending=False)"
   ]
  },
  {
   "cell_type": "markdown",
   "id": "505d8939-9e42-4fe0-94b9-a4df7c5c8c70",
   "metadata": {},
   "source": [
    "Al agrupar las propiedades por provincia, podemos realizar las siguientes observaciones:\n",
    "\n",
    "*  Las propiedades que se encuentran en capital federal, son las que tienen un precio por metro cuadrado en usd mas alto.\n",
    "\n",
    "*  Las propiedades que se encuentran en jujuy, son las que tienen mayor cantidad de metros cuadrados.\n",
    "\n",
    "*  La mayor cantidad de propiedades en venta, se encuentran en capital federal.\n"
   ]
  },
  {
   "cell_type": "code",
   "execution_count": null,
   "id": "c855270a-2385-4ef7-93f1-bf0688dfde2f",
   "metadata": {},
   "outputs": [],
   "source": []
  },
  {
   "cell_type": "code",
   "execution_count": null,
   "id": "2efdb046-7ded-4a87-a6f2-1e92b55e8799",
   "metadata": {},
   "outputs": [],
   "source": [
    "#GRAFICO"
   ]
  },
  {
   "cell_type": "code",
   "execution_count": null,
   "id": "d3c0213f-2d2c-4bb2-963f-dc18d6966a37",
   "metadata": {},
   "outputs": [],
   "source": [
    "from bokeh.plotting import figure, output_notebook, show\n",
    "from bokeh.io import output_notebook\n",
    "from bokeh.models import Legend\n",
    "from bokeh.resources import INLINE\n",
    "output_notebook(INLINE)\n",
    "from bokeh.palettes import Set2"
   ]
  },
  {
   "cell_type": "code",
   "execution_count": null,
   "id": "9c8fd7e8-0168-40d4-8bc7-7d5102b61516",
   "metadata": {},
   "outputs": [],
   "source": [
    "colors = Set2[5]\n"
   ]
  },
  {
   "cell_type": "code",
   "execution_count": null,
   "id": "12a23d4f-7440-49a9-8769-d11aef07d154",
   "metadata": {},
   "outputs": [],
   "source": [
    "len(df.state_name.unique())"
   ]
  },
  {
   "cell_type": "code",
   "execution_count": null,
   "id": "55717eeb-0e42-40b6-917e-3b068ed28a53",
   "metadata": {},
   "outputs": [],
   "source": [
    "xrange=list(df.state_name.unique()) \n",
    "\n",
    "offsets = [0.5, 0.5, 0.5, 0.5, 0.5, 0.5, 0.5, 0.5, 0.5, 0.5, 0.5, 0.5, 0.5, 0.5, 0.5, 0.5, 0.5, 0.5, 0.5, 0.5, 0.5, 0.5, 0.5, 0.5, 0.5, 0.5, 0.5, 0.5]\n",
    "provincia_offset = list(zip(xrange, np.array(offsets)*2))\n",
    "\n",
    "r0=list(groupby_provincia.price_per_m2)\n",
    "r1=list(groupby_provincia.price_usd_per_m2)"
   ]
  },
  {
   "cell_type": "code",
   "execution_count": null,
   "id": "58ffc20d-2ed8-4550-a1a7-c48fe732a610",
   "metadata": {},
   "outputs": [],
   "source": [
    "g = figure(x_range=xrange, plot_width=1000, plot_height=600\n",
    "           , title='PRECIO POR METRO CUADRADO POR PROVINCIA', x_axis_label='PROVINCIAS',y_axis_label='$/m2')\n",
    "\n",
    "\n",
    "r0 = g.vbar(x=xrange,           top=r0, width=0.5, bottom=0, color=colors[0])\n",
    "r1 = g.vbar(x=provincia_offset, top=r1, width=0.5, bottom=0, color=colors[1])\n",
    "\n",
    "show(g)"
   ]
  },
  {
   "cell_type": "code",
   "execution_count": null,
   "id": "9f9f4320-ae3b-4df3-ab2f-e9cf0ecbc977",
   "metadata": {},
   "outputs": [],
   "source": []
  },
  {
   "cell_type": "code",
   "execution_count": null,
   "id": "8e8939ae-7222-4719-9dd3-9693b0ed2e5c",
   "metadata": {},
   "outputs": [],
   "source": []
  },
  {
   "cell_type": "markdown",
   "id": "04037b68-5944-401a-9a6c-8f71fa7d1f24",
   "metadata": {},
   "source": [
    "### 6) Analisis de consistencia y calidad de los datos"
   ]
  },
  {
   "cell_type": "markdown",
   "id": "2aebead3-6144-439a-b156-e3bf18484e08",
   "metadata": {},
   "source": [
    "#### Los precios estan en distintas monedas, vamos a llevar todo a usd."
   ]
  },
  {
   "cell_type": "code",
   "execution_count": null,
   "id": "142c9a3f-1f84-4887-98a9-3a1fef3f2e8a",
   "metadata": {},
   "outputs": [],
   "source": [
    "df.currency.value_counts()"
   ]
  },
  {
   "cell_type": "markdown",
   "id": "b0c0b580-c575-45a5-b900-790d8c9625ab",
   "metadata": {},
   "source": [
    "##### Primero, vamos a estudiar los casos donde currency vale pen y uyu"
   ]
  },
  {
   "cell_type": "code",
   "execution_count": null,
   "id": "ce7acc10-6dfe-4ae0-958e-553e8a449830",
   "metadata": {},
   "outputs": [],
   "source": [
    "df_currency_uyu=df[df.currency=='uyu']\n",
    "list(df_currency_uyu.description)"
   ]
  },
  {
   "cell_type": "code",
   "execution_count": null,
   "id": "3eadb496-e3ff-4b39-bb2f-241d878ed6f3",
   "metadata": {},
   "outputs": [],
   "source": [
    "df_currency_uyu"
   ]
  },
  {
   "cell_type": "code",
   "execution_count": null,
   "id": "8237972b-cde9-4996-8157-4161e679927a",
   "metadata": {},
   "outputs": [],
   "source": [
    "#Entonces vamos a imputarle el valor de price = $ 650.000.000, con currency='ars'\n",
    "df.loc[107390,'price']=650000000\n",
    "df.loc[107390,'currency']='ars'\n",
    "df.loc[107390,['price','currency']]"
   ]
  },
  {
   "cell_type": "code",
   "execution_count": null,
   "id": "235705f9-0e13-426a-a17c-00ba5ab32562",
   "metadata": {},
   "outputs": [],
   "source": [
    "list(df[df.currency=='pen'].description)"
   ]
  },
  {
   "cell_type": "code",
   "execution_count": null,
   "id": "3baa8e80-c645-4c59-a061-f4a67a6ab0fa",
   "metadata": {},
   "outputs": [],
   "source": []
  },
  {
   "cell_type": "markdown",
   "id": "305fdb3a-20d6-47b6-93f7-6f31c4ad75eb",
   "metadata": {},
   "source": [
    "La descripcion que podemos encontrar en ambos casos, son un poco confusas sobre los precios que usariamos para imputar, por lo que optamos por dropear estas 2 filas."
   ]
  },
  {
   "cell_type": "code",
   "execution_count": null,
   "id": "fd64a33e-2aed-4d49-bfbd-fc5be6299efe",
   "metadata": {},
   "outputs": [],
   "source": [
    "df[df.currency=='pen']"
   ]
  },
  {
   "cell_type": "code",
   "execution_count": null,
   "id": "470c3bf5-d25e-49cf-bc97-2f64f60a9ba1",
   "metadata": {},
   "outputs": [],
   "source": [
    "df.drop(index = [50387,50388], inplace=True)\n",
    "df.reset_index(drop=True,inplace=True)"
   ]
  },
  {
   "cell_type": "code",
   "execution_count": null,
   "id": "06917d0d-e2d5-49ca-9f99-43dd2382438e",
   "metadata": {},
   "outputs": [],
   "source": []
  },
  {
   "cell_type": "code",
   "execution_count": null,
   "id": "e0cb96f0-5789-4656-a0cf-b8973529c282",
   "metadata": {},
   "outputs": [],
   "source": []
  },
  {
   "cell_type": "code",
   "execution_count": null,
   "id": "4929f18d-e95b-42f7-903d-c671d4cd726f",
   "metadata": {},
   "outputs": [],
   "source": [
    "price_per_m2:\n",
    "    currency=usd\n",
    "        price_per_m2 = price/surface_covered_in_m2\n",
    "        Si coinciden surface_covered_in_m2 y surface_total_in_m2, entonces price_per_m2 == price_usd_per_m2\n",
    "    currency=ars\n",
    "        price_per_m2=price/surface_covered_in_m2(apartment and house), hay que chequear con store\n",
    "        Si coinciden surface_covered_in_m2 y surface_total_in_m2, entonces price_usd_per_m2 == 17.830501*price_per_m2\n",
    "    currency=uyu\n",
    "        segun la descripcion, hay q ponerle price=650.000.000 y currency=ars\n",
    "    currency=pen\n",
    "        Segun la descripcion es un departamento de pozo, con cochera, lo vamos a tomar $956.000, currency=ars, \n",
    "        tomamos la superficie que nos dice como surface_covered_in_m2=47m2."
   ]
  },
  {
   "cell_type": "code",
   "execution_count": null,
   "id": "28fac433-6994-4087-8aad-adfeeb65a178",
   "metadata": {},
   "outputs": [],
   "source": []
  },
  {
   "cell_type": "code",
   "execution_count": null,
   "id": "f6be192f-fc86-45f0-b6f2-048bcfb57198",
   "metadata": {},
   "outputs": [],
   "source": []
  },
  {
   "cell_type": "code",
   "execution_count": null,
   "id": "338af603-42df-45da-b0ae-22939ba4940a",
   "metadata": {},
   "outputs": [],
   "source": []
  },
  {
   "cell_type": "code",
   "execution_count": null,
   "id": "b13d7cea-387d-4c31-be29-332d4f58c47c",
   "metadata": {},
   "outputs": [],
   "source": []
  },
  {
   "cell_type": "markdown",
   "id": "409bd4fa-8949-4e38-b9d5-376c8d0c7275",
   "metadata": {},
   "source": [
    "### Floor"
   ]
  },
  {
   "cell_type": "markdown",
   "id": "b9c10b42-9117-4f6a-9937-fed5c8a07eac",
   "metadata": {},
   "source": [
    "Sabemos que los departamentos que se encuentran en los pisos superiores de los edificios, suelen tener precios superiores a los que se encuentran cerca de la planta baja, pero nuestra columna floor, esta muy vacia, vamos a ver si podemos completarla con la informacion que encontramos en la columna 'description'"
   ]
  },
  {
   "cell_type": "code",
   "execution_count": null,
   "id": "6d179818-182b-4084-8454-054c69123a1c",
   "metadata": {},
   "outputs": [],
   "source": [
    "df.property_type.value_counts()"
   ]
  },
  {
   "cell_type": "code",
   "execution_count": null,
   "id": "968e2f90-2de6-45b1-8a52-75b71cdd2564",
   "metadata": {
    "tags": []
   },
   "outputs": [],
   "source": [
    "departamento_mask = df.property_type=='apartment'\n",
    "patron_piso = re.compile(r'(\\d+(º)?(\\s)?(piso))|((piso)(\\s)?\\d+(º)?)')\n",
    "\n",
    "encuentra_piso=df.loc[departamento_mask,'description'].apply(lambda x: re.search(patron_piso,str(x)))\n",
    "\n",
    "encuentra_piso_mask=encuentra_piso.notnull()\n",
    "\n",
    "pisos=encuentra_piso[encuentra_piso_mask].apply(lambda x: x.group())\n"
   ]
  },
  {
   "cell_type": "code",
   "execution_count": null,
   "id": "51c3ee10-6cc3-4de5-b1c5-875d6da861c7",
   "metadata": {
    "tags": []
   },
   "outputs": [],
   "source": [
    "# pisos.shape\n",
    "pisos.sample(10)"
   ]
  },
  {
   "cell_type": "markdown",
   "id": "f0bceedf-b567-4a37-92b5-fb87410ba5ef",
   "metadata": {},
   "source": [
    "Nuestro REGEX matchea dentro de todo bastante bien, solo debemos filtrar algunos valores altos. Pero primero, vamos a filtrar y convertir a int, nuestra variable pisos"
   ]
  },
  {
   "cell_type": "code",
   "execution_count": null,
   "id": "84d8d5b9-c7f0-4238-9506-819e00202d69",
   "metadata": {},
   "outputs": [],
   "source": [
    "pisos_sin_piso=pisos.replace(\"piso\",\" \",regex=True)\n",
    "pisos_sin_piso = pisos_sin_piso.apply(lambda x: str(x).strip())\n",
    "pisos_clean_str = pisos_sin_piso.replace(\"º\",\"\",regex=True)\n",
    "pisos_int = pisos_clean_str.apply(lambda y: int(y))\n",
    "pisos_int.sample(5)"
   ]
  },
  {
   "cell_type": "markdown",
   "id": "8a1bc553-da9f-4244-8b9f-49c5c6a1c447",
   "metadata": {},
   "source": [
    "Ahora, voy a intentar sacarme de encima a los pocos valores que el regex me tomo por error, primero defino con mi criterio, que los edificios no pueden tener mas de 40 pisos"
   ]
  },
  {
   "cell_type": "code",
   "execution_count": null,
   "id": "e85adec1-32a4-4451-86aa-047d1dc7d5b2",
   "metadata": {},
   "outputs": [],
   "source": [
    "pisos_filtrado_mask = pisos_int <= 50\n",
    "\n",
    "pisos_filtrado_menor50=pisos_int[pisos_filtrado_mask]"
   ]
  },
  {
   "cell_type": "code",
   "execution_count": null,
   "id": "4603bd9f-6308-40a5-913e-61de341d344e",
   "metadata": {},
   "outputs": [],
   "source": [
    "g=sns.histplot(pisos_filtrado_menor50)\n",
    "sns.set(rc = {'figure.figsize':(15,6)})\n",
    "g.set_title(\"DISTRIBUCION DE LOS DEPARTAMENTOS SEGUN LOS PISOS\", fontsize = 17)\n",
    "g.set_xlabel(\"PISO DE LA PROPIEDAD\", fontsize = 15)\n",
    "g.set_ylabel(\"CANTIDAD DE DEPARTAMENTOS\", fontsize = 15)"
   ]
  },
  {
   "cell_type": "markdown",
   "id": "799b5b2a-9f0a-45f9-93d4-e3b2d9ad552b",
   "metadata": {},
   "source": [
    "La gran mayoria de los departamentos, rondan entre el 2do y 10mo piso"
   ]
  },
  {
   "cell_type": "code",
   "execution_count": null,
   "id": "dc4cc48c-1770-46ce-a9c0-f4bbe8601171",
   "metadata": {},
   "outputs": [],
   "source": [
    "pisos_filtrado_menor50.median()"
   ]
  },
  {
   "cell_type": "markdown",
   "id": "9f8e79af-1394-455a-b713-89742ceb813e",
   "metadata": {},
   "source": [
    "Porcentaje de valores faltantes en floor para viviendas tipo departamento"
   ]
  },
  {
   "cell_type": "code",
   "execution_count": null,
   "id": "683a7638-48a7-4a16-a17b-de365aa06d86",
   "metadata": {},
   "outputs": [],
   "source": [
    "df.floor[departamento_mask].isnull().sum()/df.floor[departamento_mask].shape[0]*100"
   ]
  },
  {
   "cell_type": "markdown",
   "id": "49382bea-4a41-4b27-8b63-1fb1c8ab664d",
   "metadata": {},
   "source": [
    "Ahora con estos valores de pisos, voy a imputar mi columna floor, en las filas donde property_type sea apartment y floor tenga valor nan"
   ]
  },
  {
   "cell_type": "code",
   "execution_count": null,
   "id": "0a015b9d-7441-4887-9557-9c70c807cbc1",
   "metadata": {},
   "outputs": [],
   "source": [
    "null_floor_mask = df.floor.isnull()\n",
    "departamento_mask\n",
    "departamento_y_floor_null=np.logical_and(departamento_mask,null_floor_mask)\n",
    "\n",
    "df.loc[departamento_y_floor_null,'floor']=pisos_filtrado_menor50"
   ]
  },
  {
   "cell_type": "code",
   "execution_count": null,
   "id": "632997de-1ebd-4eb8-acc1-12b3a5a71628",
   "metadata": {},
   "outputs": [],
   "source": [
    "df.floor[departamento_mask].isnull().sum()/df.floor[departamento_mask].shape[0]*100"
   ]
  },
  {
   "cell_type": "code",
   "execution_count": null,
   "id": "c6764a53-c101-47c9-ad2c-ec0ef7a00fda",
   "metadata": {},
   "outputs": [],
   "source": []
  },
  {
   "cell_type": "markdown",
   "id": "2fde1e40-141d-4dcd-8baa-565fbfcc0c4e",
   "metadata": {},
   "source": [
    "Bajo el porcentaje de nulos, pero aun sigue siendo muy alto para tomar esta columna como relevante."
   ]
  },
  {
   "cell_type": "code",
   "execution_count": null,
   "id": "f6751479-f40b-4209-96b1-38fa50f0897a",
   "metadata": {},
   "outputs": [],
   "source": []
  },
  {
   "cell_type": "markdown",
   "id": "7b2b65ac-532b-4f4e-a550-3f375b63294e",
   "metadata": {},
   "source": [
    "### Rooms"
   ]
  },
  {
   "cell_type": "markdown",
   "id": "eae1b50e-268d-4c3f-a47f-49eba41e317c",
   "metadata": {},
   "source": [
    "Es posible que la cantidad de ambientes en los departamentos, que se encuentren en la misma zona (place_name), influya en el valor del inmueble, pero tenemos un 60.9% de columnas Null, veremos si podemos obtener alguna informacion de la columna description, como hicimos con floor."
   ]
  },
  {
   "cell_type": "code",
   "execution_count": null,
   "id": "1ca7a1d5-0e25-465a-a64e-ef7fb845d41a",
   "metadata": {},
   "outputs": [],
   "source": [
    "patron_ambientes = re.compile(r'\\d+(\\s)?(ambiente(s)?)|\\d+(\\s)?(amb(\\.)?)')\n",
    "\n",
    "\n",
    "encuentra_ambientes=df.loc[departamento_mask,'description'].apply(lambda x: re.search(patron_ambientes,str(x)))\n",
    "\n",
    "encuentra_ambientes_mask=encuentra_ambientes.notnull()\n",
    "\n",
    "ambientes=encuentra_ambientes[encuentra_ambientes_mask].apply(lambda x: x.group())\n",
    "ambientes.sample(30)\n",
    "# ambientes.shape\n",
    "ambientes.value_counts()"
   ]
  },
  {
   "cell_type": "markdown",
   "id": "575fefb1-edc2-4711-8f11-3c5988c87944",
   "metadata": {},
   "source": [
    "Podemos ver que nuestro Regex funciono bastante bien, pero hay alguno valores que hay que filtrar, para esto primero vamos a convertir a dato numerico "
   ]
  },
  {
   "cell_type": "code",
   "execution_count": null,
   "id": "8ee969f7-8a37-4dce-8743-818ff7f18c18",
   "metadata": {},
   "outputs": [],
   "source": [
    "ambientes_sin_ambientes=ambientes.replace(\"ambientes\",\" \",regex=True)\n",
    "ambientes_sin_ambientes_sin_ambiente=ambientes_sin_ambientes.replace(\"ambiente\",\" \",regex=True)\n",
    "ambientes_sin_ambientes_sin_ambiente_sin_amb=ambientes_sin_ambientes_sin_ambiente.replace(\"amb(\\.)?\",\" \",regex=True)\n",
    "\n",
    "ambientes_clean_str = ambientes_sin_ambientes_sin_ambiente_sin_amb.apply(lambda x: str(x).strip())\n",
    "ambientes_int = ambientes_clean_str.apply(lambda y: int(y))\n",
    "ambientes_int.sample(5)"
   ]
  },
  {
   "cell_type": "code",
   "execution_count": null,
   "id": "c1afd88c-29b1-4cf1-a979-71c92c527cc5",
   "metadata": {},
   "outputs": [],
   "source": []
  },
  {
   "cell_type": "markdown",
   "id": "564a9173-8f0d-4eee-92dd-c1f2f746c8db",
   "metadata": {},
   "source": [
    "Voy a tomar un criterio de que mas de 10 ambientes, en un departamento, es un valor incorrecto"
   ]
  },
  {
   "cell_type": "code",
   "execution_count": null,
   "id": "51c9a7b3-7ac1-4464-963b-9b02def6ddda",
   "metadata": {},
   "outputs": [],
   "source": [
    "ambientes_menor_10=ambientes_int<10\n",
    "ambientes_clean=ambientes_int[ambientes_menor_10]"
   ]
  },
  {
   "cell_type": "code",
   "execution_count": null,
   "id": "a18199a5-0ee0-4f38-844e-362f17536b07",
   "metadata": {},
   "outputs": [],
   "source": [
    "g1=sns.histplot(ambientes_clean)\n",
    "sns.set(rc = {'figure.figsize':(15,6)})\n",
    "g1.set_title(\"CANTIDAD DE DEPARTAMENTOS EN FUNCION DE SU N DE AMBIENTES\", fontsize = 17)\n",
    "g1.set_xlabel(\"Nº AMBIENTES\", fontsize = 15)\n",
    "g1.set_ylabel(\"CANTIDAD DE DEPARTAMENTOS\", fontsize = 15)"
   ]
  },
  {
   "cell_type": "markdown",
   "id": "39d9b3fc-7b0c-478a-9c67-9b6de59e1fec",
   "metadata": {},
   "source": [
    "Podemos observar que la gran mayoria de los departamentos en venta, tienen 2 y 3 ambientes"
   ]
  },
  {
   "cell_type": "code",
   "execution_count": null,
   "id": "42473cb4-9f06-48ae-a03a-5f51043d1a6d",
   "metadata": {},
   "outputs": [],
   "source": []
  },
  {
   "cell_type": "code",
   "execution_count": null,
   "id": "3c2c9866-d47c-46ef-a5c4-0e3b9aca8f4e",
   "metadata": {},
   "outputs": [],
   "source": []
  },
  {
   "cell_type": "markdown",
   "id": "7c344e69-e013-4cc1-bf85-2598fde022ee",
   "metadata": {},
   "source": [
    "Porcentaje de valores faltantes en la columna rooms, para viviendas tipo departamento."
   ]
  },
  {
   "cell_type": "code",
   "execution_count": null,
   "id": "76f3369f-b24a-42ca-8bf0-092a2b4d3da9",
   "metadata": {},
   "outputs": [],
   "source": [
    "df.rooms[departamento_mask].isnull().sum()/df.rooms[departamento_mask].shape[0]*100"
   ]
  },
  {
   "cell_type": "markdown",
   "id": "742afded-fd3a-4154-a353-731a3230b6ad",
   "metadata": {},
   "source": [
    "Ahora vamos a imputar con ambientes_clean, algunos de los valores faltantes de rooms"
   ]
  },
  {
   "cell_type": "code",
   "execution_count": null,
   "id": "a3fd1fa8-b9fa-44bc-9858-1be059faf667",
   "metadata": {},
   "outputs": [],
   "source": [
    "rooms_null_mask=df.rooms.isnull()\n",
    "departamento_rooms_null_mask = np.logical_and(rooms_null_mask,departamento_mask)\n",
    "\n",
    "df.loc[departamento_rooms_null_mask,'rooms']=ambientes_clean\n",
    "\n",
    "df.rooms[departamento_mask].isnull().sum()/df.rooms[departamento_mask].shape[0]*100"
   ]
  },
  {
   "cell_type": "markdown",
   "id": "464b5b96-697b-4a05-9774-c67b59441cd6",
   "metadata": {},
   "source": [
    "Podemos ver como bajamos casi un 20% el valor de NaN rows en los inmuebles tipo departamento"
   ]
  },
  {
   "cell_type": "code",
   "execution_count": null,
   "id": "d573964c-8c66-4c53-b720-5d83866f0d58",
   "metadata": {},
   "outputs": [],
   "source": []
  },
  {
   "cell_type": "code",
   "execution_count": null,
   "id": "c7f93351-6c0a-424b-a40c-cdbefd0ee527",
   "metadata": {},
   "outputs": [],
   "source": []
  },
  {
   "cell_type": "code",
   "execution_count": null,
   "id": "de1158de-7802-4018-ac84-09536ce839c0",
   "metadata": {},
   "outputs": [],
   "source": []
  },
  {
   "cell_type": "markdown",
   "id": "4ba9b885-ae23-4274-82a1-cf647195c2cd",
   "metadata": {},
   "source": [
    "### Cocheras"
   ]
  },
  {
   "cell_type": "markdown",
   "id": "a8c9758d-a722-4eec-b960-877d7f8434af",
   "metadata": {},
   "source": [
    "Vamos a filtrar los departamentos que tengan cochera, para estudiar si el precio por m2 aumenta en estos casos."
   ]
  },
  {
   "cell_type": "code",
   "execution_count": null,
   "id": "241cc24e-37a8-462e-8453-5c885ad66fac",
   "metadata": {},
   "outputs": [],
   "source": [
    "df_departamentos = df[departamento_mask]\n",
    "\n",
    "patron_cochera = re.compile(r'cochera(s)?|garage(s)?|garaje(s)?')\n",
    "\n",
    "encuentra_cochera=df.loc[departamento_mask,'description'].apply(lambda x: re.search(patron_cochera,str(x)))\n",
    "\n",
    "departamentos_con_cochera_mask=encuentra_cochera.notnull()\n",
    "\n",
    "\n",
    "departamentos_con_cochera = df_departamentos[departamentos_con_cochera_mask]\n",
    "departamentos_con_cochera.sample(3)"
   ]
  },
  {
   "cell_type": "code",
   "execution_count": null,
   "id": "d7b9b202-b0b4-4391-b51b-144b5fd3f9d1",
   "metadata": {},
   "outputs": [],
   "source": []
  },
  {
   "cell_type": "code",
   "execution_count": null,
   "id": "7981d161-675b-4d3d-9251-985f63c4c79a",
   "metadata": {},
   "outputs": [],
   "source": []
  },
  {
   "cell_type": "markdown",
   "id": "6943e3d7-d1dd-4a42-82e4-7a33f889e028",
   "metadata": {},
   "source": [
    "### Expenses"
   ]
  },
  {
   "cell_type": "code",
   "execution_count": null,
   "id": "7d8fb3ba-7dd7-46d2-8722-426647794d54",
   "metadata": {},
   "outputs": [],
   "source": []
  },
  {
   "cell_type": "markdown",
   "id": "e65d5850-f06b-4611-85cf-9dcc061b3f16",
   "metadata": {},
   "source": [
    "## Piscinas"
   ]
  },
  {
   "cell_type": "markdown",
   "id": "16bfd920-cae5-48f4-bfe7-c11b0f78d78c",
   "metadata": {},
   "source": [
    "Vamos a ver de todas las propiedades, cuales tienen pileta, para ver si esto afecta al valor por metro cuadrado de la propiedad"
   ]
  },
  {
   "cell_type": "code",
   "execution_count": null,
   "id": "875e05ae-2e3c-4072-833a-7b20d763bfb8",
   "metadata": {},
   "outputs": [],
   "source": [
    "patron_pileta = re.compile(r'piscina|pileta')\n",
    "\n",
    "encuentra_pileta=df['description'].apply(lambda x: re.search(patron_pileta,str(x)))\n",
    "\n",
    "inmuebles_con_pileta_mask=encuentra_pileta.notnull()\n",
    "\n",
    "\n",
    "inmuebles_con_pileta = df[inmuebles_con_pileta_mask]"
   ]
  },
  {
   "cell_type": "code",
   "execution_count": null,
   "id": "0caae16f-c7e8-4707-8014-3440d49dd51e",
   "metadata": {},
   "outputs": [],
   "source": [
    "list(inmuebles_con_pileta.description.sample(1))"
   ]
  },
  {
   "cell_type": "code",
   "execution_count": null,
   "id": "f91016e1-6bdc-44df-b663-ee27ceb2856e",
   "metadata": {},
   "outputs": [],
   "source": []
  },
  {
   "cell_type": "code",
   "execution_count": null,
   "id": "378e612d-fcdf-4da6-b138-863232bd330e",
   "metadata": {},
   "outputs": [],
   "source": []
  },
  {
   "cell_type": "code",
   "execution_count": null,
   "id": "a9a39872-5439-49a7-8da6-fc4e43e7b814",
   "metadata": {},
   "outputs": [],
   "source": []
  },
  {
   "cell_type": "markdown",
   "id": "0d191eb0-8fe4-470c-b605-2f3ff6902a80",
   "metadata": {},
   "source": [
    "## Filtrado de columnas con demasiados elementos faltantes, que puedan producirnos un bias muy alto si queremos imputarlas de alguna manera"
   ]
  },
  {
   "cell_type": "markdown",
   "id": "2a2f8154-01f5-4bc2-ad2d-e2e234502702",
   "metadata": {},
   "source": [
    "Vamos a quedarnos con aquellas columnas que por lo menos tengan el 60% de los valores sin NaN."
   ]
  },
  {
   "cell_type": "code",
   "execution_count": null,
   "id": "36eab8e4-adb2-4fa0-ba74-ec29508505c0",
   "metadata": {},
   "outputs": [],
   "source": [
    "threshold= df.shape[0]*0.6\n",
    "df_cols_utiles = df[cols_utiles].dropna(thresh = threshold ,axis=1)"
   ]
  },
  {
   "cell_type": "code",
   "execution_count": null,
   "id": "566fdc42-36db-40d6-8de1-4d0d80938e80",
   "metadata": {
    "tags": []
   },
   "outputs": [],
   "source": [
    "df_cols_utiles.shape[1]"
   ]
  },
  {
   "cell_type": "code",
   "execution_count": null,
   "id": "e04c81ad-9d2d-4e5d-b657-74b5e25f5858",
   "metadata": {},
   "outputs": [],
   "source": [
    "len(cols_utiles)"
   ]
  },
  {
   "cell_type": "markdown",
   "id": "83c9774f-aa91-44a8-b09c-4d0f5be91a14",
   "metadata": {},
   "source": [
    "De esta manera, dropeamos las columnas 'rooms', 'floor', 'expenses', 'price_usd_per_m2'"
   ]
  },
  {
   "cell_type": "code",
   "execution_count": null,
   "id": "aa4a39ad-5589-46de-8fc1-3c8771e9cde5",
   "metadata": {},
   "outputs": [],
   "source": [
    "df_cols_utiles.isnull().sum()/df_cols_utiles.shape[0]*100"
   ]
  },
  {
   "cell_type": "markdown",
   "id": "c4104cbb-76cb-46fa-be8f-9fc1808650f1",
   "metadata": {},
   "source": [
    "Dado que 'price_usd_per_m2', está muy cerca del umbral, veremos si tiene alguna utilidad con nuestra variable mas relevante o podemos descartarlo directamente."
   ]
  },
  {
   "cell_type": "code",
   "execution_count": null,
   "id": "53cfcab5-82ce-416a-8a43-95f7caf736be",
   "metadata": {},
   "outputs": [],
   "source": [
    "notnull_price_usd_per_m2_mask=df['price_usd_per_m2'].notnull()\n",
    "null_price_per_m2_mask = df['price_per_m2'].isnull()\n",
    "\n",
    "(notnull_price_usd_per_m2_mask==null_price_per_m2_mask).any()\n",
    "#Hay alguna fila donde price_usd_per_m2, tenga un valor util y price_per_m2, sea NaN?"
   ]
  },
  {
   "cell_type": "markdown",
   "id": "ef23c0ef-7ce6-4c4c-b542-5f30ff3823e2",
   "metadata": {},
   "source": [
    "Debido a la proximidad con el umbral que fijamos, y que puede aportarnos informacion util, vamos a cambiar el umbral al 55% de valores utiles, para no perder 'price_usd_per_m2'"
   ]
  },
  {
   "cell_type": "code",
   "execution_count": null,
   "id": "b773b2fc-4ede-4e27-adc0-70634f8bb7fc",
   "metadata": {},
   "outputs": [],
   "source": [
    "threshold2= df.shape[0]*0.55\n",
    "df_cols_utiles2 = df[cols_utiles].dropna(thresh = threshold2 ,axis=1)"
   ]
  },
  {
   "cell_type": "code",
   "execution_count": null,
   "id": "2c8e0a28-d408-45be-bd8e-44651fe99a22",
   "metadata": {},
   "outputs": [],
   "source": [
    "df_cols_utiles2.isnull().sum()/df_cols_utiles2.shape[0]*100"
   ]
  },
  {
   "cell_type": "code",
   "execution_count": null,
   "id": "4a14ed98-97ad-4f98-979b-3edbd063be6f",
   "metadata": {},
   "outputs": [],
   "source": [
    "df_cols_utiles2.sample(5)"
   ]
  },
  {
   "cell_type": "code",
   "execution_count": null,
   "id": "b82da1ac-daaf-4ea2-a7e8-61bd3cf36820",
   "metadata": {},
   "outputs": [],
   "source": []
  },
  {
   "cell_type": "markdown",
   "id": "cc6c69be-725e-4958-b563-52e09eda62e5",
   "metadata": {},
   "source": [
    "**Ahora vamos a comprobar si columnas como'price_aprox_local_currency','price_aprox_usd','place_with_parent_names','currency', tienen alguna utilidad para nosotros, o la informacion que nos dan, las tenemos contenidas en otras columnas**"
   ]
  },
  {
   "cell_type": "markdown",
   "id": "bf98c9f1-2453-45ad-906a-e761192e282b",
   "metadata": {},
   "source": [
    "## 'price_aprox_local_currency','price_aprox_usd',"
   ]
  },
  {
   "cell_type": "code",
   "execution_count": null,
   "id": "f1c9af76-648a-431b-8718-e14b7d5c8b07",
   "metadata": {},
   "outputs": [],
   "source": [
    "df_cols_utiles2[['price_aprox_local_currency','price_aprox_usd','price','currency']].sample(5)"
   ]
  },
  {
   "cell_type": "markdown",
   "id": "591a2bc6-f2db-46fe-8d4e-f016c5b78011",
   "metadata": {},
   "source": [
    "Observando el dataset, vemos que price_aprox_local_currency(ars), se aproxima al valor de price, cuando currency esta en 'ars'\n",
    "\n",
    "Tambien vemos que price_aprox_usd, coincide con el valor de price, cuando currency esta en 'usd'.\n"
   ]
  },
  {
   "cell_type": "code",
   "execution_count": null,
   "id": "65b41074-a187-4d40-8f7a-74355443ebcb",
   "metadata": {},
   "outputs": [],
   "source": [
    "ars_mask = df_cols_utiles2.currency == 'ars'\n",
    "\n",
    "df_cols_utiles2_ars=df_cols_utiles2[ars_mask]\n",
    "\n",
    "rel = df_cols_utiles2_ars.price/df_cols_utiles2_ars.price_aprox_local_currency\n",
    "relacion = rel.mean()\n",
    "relacion"
   ]
  },
  {
   "cell_type": "markdown",
   "id": "7f453d78-130b-483a-a4e4-5dcfb1bbee83",
   "metadata": {},
   "source": [
    "Observamos que la relacion entre price y price_aprox_local_currency, es \"relacion\""
   ]
  },
  {
   "cell_type": "code",
   "execution_count": null,
   "id": "cb18efbb-f622-42f8-a1ab-1ac23879c0a8",
   "metadata": {},
   "outputs": [],
   "source": []
  },
  {
   "cell_type": "markdown",
   "id": "947d2482-eb5e-410d-91ee-489d83b9e0d0",
   "metadata": {},
   "source": [
    "\n",
    "Nuestro objetivo, es eliminar price_aprox_local_currency y price_aprox_usd, una vez las usemos para completar price\n",
    "\n",
    "Veamos primero si nos son utiles estas columnas para lo que queremos hacer."
   ]
  },
  {
   "cell_type": "code",
   "execution_count": null,
   "id": "70db9a65-9458-4b3e-8b6f-a6360a34888e",
   "metadata": {},
   "outputs": [],
   "source": []
  },
  {
   "cell_type": "code",
   "execution_count": null,
   "id": "97c567f0-a8e8-4dc5-9a83-387ba641f6f4",
   "metadata": {},
   "outputs": [],
   "source": [
    "notnull_price_aprox_local_currency=df_cols_utiles2.price_aprox_local_currency.notnull()\n",
    "notnull_price_aprox_usd=df_cols_utiles2.price_aprox_usd.notnull()\n",
    "price_ars_usd = (df_cols_utiles2.currency == 'usd') | (df_cols_utiles2.currency == 'ars')\n",
    "null_price_ars_usd=df_cols_utiles2.price[price_ars_usd].isnull()\n",
    "\n",
    "\n",
    "price_local_o_price_usd=np.logical_or(notnull_price_aprox_local_currency,notnull_price_aprox_usd)\n",
    "\n",
    "null_price_notnull_price_local_o_price_usd=np.logical_and(price_local_o_price_usd,null_price_ars_usd)\n",
    "\n",
    "null_price_notnull_price_local_o_price_usd.any()"
   ]
  },
  {
   "cell_type": "markdown",
   "id": "5c8a5a7f-254f-4a62-bbdc-17eb712eed0e",
   "metadata": {},
   "source": [
    "Por lo tanto, comprobamos que **NO HAY** ningun valor no nulo en price_aprox_usd o price_aprox_local_currency, que podamos utilizar para imputar price, con currency 'ars' o 'usd'"
   ]
  },
  {
   "cell_type": "code",
   "execution_count": null,
   "id": "dac1e994-a38b-46e3-8563-efc15a443033",
   "metadata": {},
   "outputs": [],
   "source": []
  },
  {
   "cell_type": "code",
   "execution_count": null,
   "id": "c0100c02-9c31-4d1f-a4ef-ddafa2939ba1",
   "metadata": {},
   "outputs": [],
   "source": []
  },
  {
   "cell_type": "markdown",
   "id": "42d58e82-719a-4a2d-a9d5-fcfc9e6c4e4f",
   "metadata": {},
   "source": [
    "## place_with_parent_names"
   ]
  },
  {
   "cell_type": "markdown",
   "id": "138583d6-32ac-487f-b8bf-81be9f8b056e",
   "metadata": {},
   "source": [
    "place_with_parent_names = |country_name|state_name|place_name|, con lo cual, no nos da informacion extra, y es mas facil utilizar para los groupby sus columnas \"hijas\", con lo cual, la utilizaremos para completar \"place_name\", que tiene algunos nulos y luego la descartaremos."
   ]
  },
  {
   "cell_type": "code",
   "execution_count": null,
   "id": "0882968d-6917-45fb-8c57-6eb9d370c2c3",
   "metadata": {},
   "outputs": [],
   "source": []
  },
  {
   "cell_type": "markdown",
   "id": "6bb84f41-d137-4fb2-bddd-f05742567d3a",
   "metadata": {},
   "source": [
    "Vamos a comprobar si podemos completar place_name, con place_with_parent_names. Para esto, vamos a eliminar las filas donde haya NaN en place_name y comparar si es igual al anteultimo elemento de place_with_parent_names, al aplicarle un split(el ultimo es el pipe)."
   ]
  },
  {
   "cell_type": "code",
   "execution_count": null,
   "id": "69cb562e-749d-4186-8c0b-9d3f612dfed1",
   "metadata": {},
   "outputs": [],
   "source": [
    "place_name_tester=df_cols_utiles2.place_with_parent_names.apply(lambda x: x.split('|')[-2])\n",
    "place_name_tester"
   ]
  },
  {
   "cell_type": "code",
   "execution_count": null,
   "id": "72205528-d9a0-4c40-ab93-34eff7c97129",
   "metadata": {},
   "outputs": [],
   "source": [
    "place_name_null_mask = df_cols_utiles2.place_name.isnull()"
   ]
  },
  {
   "cell_type": "code",
   "execution_count": null,
   "id": "5d93602d-fa42-4e1d-9e31-285dc5afd968",
   "metadata": {
    "tags": []
   },
   "outputs": [],
   "source": [
    "(place_name_tester[~place_name_null_mask]==df_cols_utiles2.place_name[~place_name_null_mask]).all()"
   ]
  },
  {
   "cell_type": "markdown",
   "id": "bb1a8d75-bbff-46d8-a192-c9417c96e1c2",
   "metadata": {},
   "source": [
    "Comprobamos que podemos imputar el valor de place_name, a partir de la columna place_with_parent_names, asi que vamos a imputarlo"
   ]
  },
  {
   "cell_type": "code",
   "execution_count": null,
   "id": "c8c00f36-23d7-4792-9802-29253aac1edc",
   "metadata": {},
   "outputs": [],
   "source": [
    "df_cols_utiles2.loc[place_name_null_mask,'place_name'] = place_name_tester\n",
    "\n",
    "df_cols_utiles2.place_name.isnull().sum()"
   ]
  },
  {
   "cell_type": "code",
   "execution_count": null,
   "id": "8c7baae8-69fa-40e5-b564-0e6be4932b82",
   "metadata": {},
   "outputs": [],
   "source": []
  },
  {
   "cell_type": "markdown",
   "id": "8aa89204-48e8-4e62-b245-2a4a2b5fc0db",
   "metadata": {},
   "source": [
    "Ahora dropeamos algunas columnas de nuestro data frame"
   ]
  },
  {
   "cell_type": "code",
   "execution_count": null,
   "id": "86c0c62f-b12a-4758-ba3a-d3f17f20c7f5",
   "metadata": {},
   "outputs": [],
   "source": [
    "df_cols_utiles2.head(1)"
   ]
  },
  {
   "cell_type": "code",
   "execution_count": null,
   "id": "6b8f5c7c-4fd5-44e3-bfd9-15dcfddefc8a",
   "metadata": {},
   "outputs": [],
   "source": [
    "df_cols_utiles3=df_cols_utiles2.drop(['place_with_parent_names','price_aprox_local_currency','price_aprox_usd'], axis=1)\n",
    "df_cols_utiles3.head(3)"
   ]
  },
  {
   "cell_type": "code",
   "execution_count": null,
   "id": "8f767c71-fde0-46e8-83e4-e8e3fd31a2af",
   "metadata": {},
   "outputs": [],
   "source": []
  },
  {
   "cell_type": "code",
   "execution_count": null,
   "id": "c7f6e4c0-a1c1-45c4-a2da-cae4b34032e5",
   "metadata": {},
   "outputs": [],
   "source": []
  },
  {
   "cell_type": "code",
   "execution_count": null,
   "id": "be8a1472-8740-4a25-94c5-dbcd1e30dc66",
   "metadata": {},
   "outputs": [],
   "source": []
  },
  {
   "cell_type": "markdown",
   "id": "eff2365e-7a42-42ea-883a-baab946deda9",
   "metadata": {},
   "source": [
    "Estudiando el dataset, podemos observar, que el valor de price_usd_per_m2, es igual al de price_per_m2, cuando surface_covered_in_m2 es igual a surface_total_in_m2, SIEMPRE QUE CURRENCY ESTE EN USD"
   ]
  },
  {
   "cell_type": "code",
   "execution_count": null,
   "id": "23417da9-cd49-4390-a18f-83d19ee0f5fb",
   "metadata": {
    "tags": []
   },
   "outputs": [],
   "source": [
    "df_cols_utiles2[df_cols_utiles2.surface_covered_in_m2 == df_cols_utiles2.surface_total_in_m2][['price_usd_per_m2','price_per_m2']]"
   ]
  },
  {
   "cell_type": "code",
   "execution_count": null,
   "id": "16bd7182-8cf1-4ceb-b03c-53d1d611613a",
   "metadata": {},
   "outputs": [],
   "source": [
    "## IMPUTACION A price_usd_per_m2 con ,price_per_m2 para filas donde currency es 'usd'"
   ]
  },
  {
   "cell_type": "code",
   "execution_count": null,
   "id": "3f9b11f1-a881-4f09-8880-317873bb66f1",
   "metadata": {},
   "outputs": [],
   "source": []
  },
  {
   "cell_type": "code",
   "execution_count": null,
   "id": "b961e033-7b0c-4d91-add7-397245ab1d30",
   "metadata": {
    "tags": []
   },
   "outputs": [],
   "source": [
    "currency_usd_mask=df_cols_utiles2.currency == 'usd'\n",
    "cubiertos_igual_totales=df_cols_utiles2.surface_covered_in_m2==df_cols_utiles2.surface_total_in_m2\n",
    "\n",
    "df_price_per_m2_igual_price_usd_per_m2= df_cols_utiles2[np.logical_and(currency_usd_mask,cubiertos_igual_totales)]\n",
    "\n",
    "df_price_per_m2_igual_price_usd_per_m2.price_per_m2.isnull().any()"
   ]
  },
  {
   "cell_type": "markdown",
   "id": "94d04f33-6c8c-4f66-9a9a-7951a1479d8e",
   "metadata": {},
   "source": [
    "Comprobamos que **NO HAY** ningun valor de `price_usd_per_m2` que podamos imputar usando la relacion el valor de `price_per_m2`, es igual al de price_per_m2, cuando surface_covered_in_m2 es igual a surface_total_in_m2, SIEMPRE QUE CURRENCY ESTE EN USD"
   ]
  },
  {
   "cell_type": "code",
   "execution_count": null,
   "id": "9584cb6b-bcd2-4c4f-887d-51e33bf54d9e",
   "metadata": {},
   "outputs": [],
   "source": [
    "df_cols_utiles2.price_usd_per_m2.notnull().sum()"
   ]
  },
  {
   "cell_type": "code",
   "execution_count": null,
   "id": "1fe35502-4d75-4768-878d-dc57369de5ef",
   "metadata": {},
   "outputs": [],
   "source": [
    "df_cols_utiles2.price_per_m2.notnull().sum()"
   ]
  },
  {
   "cell_type": "code",
   "execution_count": null,
   "id": "1475991d-1ece-49fb-8e33-f50395e3bf15",
   "metadata": {},
   "outputs": [],
   "source": [
    "## IMPUTACION A price_per_m2 con price_usd_per_m2, para filas donde currency es 'usd'"
   ]
  }
 ],
 "metadata": {
  "kernelspec": {
   "display_name": "Python 3",
   "language": "python",
   "name": "python3"
  },
  "language_info": {
   "codemirror_mode": {
    "name": "ipython",
    "version": 3
   },
   "file_extension": ".py",
   "mimetype": "text/x-python",
   "name": "python",
   "nbconvert_exporter": "python",
   "pygments_lexer": "ipython3",
   "version": "3.8.8"
  }
 },
 "nbformat": 4,
 "nbformat_minor": 5
}
